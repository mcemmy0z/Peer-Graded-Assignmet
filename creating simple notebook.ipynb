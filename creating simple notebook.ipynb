{
 "cells": [
  {
   "cell_type": "markdown",
   "id": "d0a89b55-7586-479b-9bba-211c019e788c",
   "metadata": {
    "tags": []
   },
   "source": [
    "My Jupyter Notebook on IBM Watson Studio"
   ]
  },
  {
   "cell_type": "markdown",
   "id": "4ee9a956-d133-412a-bc98-9241e4d20707",
   "metadata": {},
   "source": [
    "My name is Odunayo Emmnauel, im a data scientist "
   ]
  },
  {
   "cell_type": "markdown",
   "id": "110f587f-3fda-49a7-a78d-28c748191a54",
   "metadata": {},
   "source": [
    "Why am i interested in data science: I am interested in data science because .i like to play data, i love to make predictions too.\n",
    "and i also love everything about computer and machine learning."
   ]
  },
  {
   "cell_type": "markdown",
   "id": "c1118073-1aa5-4ee3-854f-42cee59fbcd2",
   "metadata": {},
   "source": [
    "my code in cell 5 is going to show how to simple multiplication in python"
   ]
  },
  {
   "cell_type": "code",
   "execution_count": 1,
   "id": "6f7f2dfa-724a-4373-aa61-233fa48af0da",
   "metadata": {},
   "outputs": [
    {
     "data": {
      "text/plain": [
       "210"
      ]
     },
     "execution_count": 1,
     "metadata": {},
     "output_type": "execute_result"
    }
   ],
   "source": [
    "a = 5\n",
    "b = 6\n",
    "c = 7\n",
    "df = a*b*c\n",
    "df"
   ]
  },
  {
   "cell_type": "code",
   "execution_count": null,
   "id": "a87fe7c2-fd87-4670-bad5-9f8339825fe4",
   "metadata": {},
   "outputs": [],
   "source": []
  }
 ],
 "metadata": {
  "kernelspec": {
   "display_name": "Python",
   "language": "python",
   "name": "conda-env-python-py"
  },
  "language_info": {
   "codemirror_mode": {
    "name": "ipython",
    "version": 3
   },
   "file_extension": ".py",
   "mimetype": "text/x-python",
   "name": "python",
   "nbconvert_exporter": "python",
   "pygments_lexer": "ipython3",
   "version": "3.7.12"
  }
 },
 "nbformat": 4,
 "nbformat_minor": 5
}
