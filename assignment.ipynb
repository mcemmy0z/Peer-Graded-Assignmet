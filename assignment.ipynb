{
 "cells": [
  {
   "cell_type": "markdown",
   "id": "cad911da-85e5-4578-a94f-84a2fd2c0af6",
   "metadata": {},
   "source": [
    "Peer Graded Assignment for week 4 Data science too\n",
    " "
   ]
  },
  {
   "cell_type": "markdown",
   "id": "c1764231-d12b-40a6-a250-f97f46358511",
   "metadata": {
    "tags": []
   },
   "source": [
    "# Funtion of addition\n",
    "\n",
    "a = 60\n",
    "b = 70\n",
    "df = a+b\n",
    "df"
   ]
  },
  {
   "cell_type": "markdown",
   "id": "1f46c7b3-4d5e-493c-a175-194022fbffaa",
   "metadata": {
    "jp-MarkdownHeadingCollapsed": true,
    "tags": []
   },
   "source": [
    "# funvtion of multiplication\n",
    "\n",
    "a = 60 \n",
    "b = 70\n",
    "df = a*b\n",
    "df "
   ]
  },
  {
   "cell_type": "markdown",
   "id": "47d1db6e-4669-4df8-8655-8a68d2511b6a",
   "metadata": {},
   "source": [
    "# function of division\n",
    "a = 60\n",
    "b = 2\n",
    "df = a/b\n",
    "df"
   ]
  },
  {
   "cell_type": "code",
   "execution_count": null,
   "id": "9edd78a1-d059-44f7-9d2b-fdf892f64906",
   "metadata": {},
   "outputs": [],
   "source": []
  }
 ],
 "metadata": {
  "kernelspec": {
   "display_name": "Python",
   "language": "python",
   "name": "conda-env-python-py"
  },
  "language_info": {
   "codemirror_mode": {
    "name": "ipython",
    "version": 3
   },
   "file_extension": ".py",
   "mimetype": "text/x-python",
   "name": "python",
   "nbconvert_exporter": "python",
   "pygments_lexer": "ipython3",
   "version": "3.7.12"
  }
 },
 "nbformat": 4,
 "nbformat_minor": 5
}
